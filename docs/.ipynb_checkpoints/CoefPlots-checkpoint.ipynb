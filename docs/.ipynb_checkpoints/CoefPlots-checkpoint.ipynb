{
 "cells": [
  {
   "cell_type": "code",
   "execution_count": 14,
   "metadata": {},
   "outputs": [
    {
     "ename": "ModuleNotFoundError",
     "evalue": "No module named 'plots'",
     "output_type": "error",
     "traceback": [
      "\u001b[1;31m---------------------------------------------------------------------------\u001b[0m",
      "\u001b[1;31mModuleNotFoundError\u001b[0m                       Traceback (most recent call last)",
      "\u001b[1;32m<ipython-input-14-3ca7eb2dc995>\u001b[0m in \u001b[0;36m<module>\u001b[1;34m\u001b[0m\n\u001b[0;32m     12\u001b[0m \u001b[1;31m# sys.path.append('../../CoefPlot')\u001b[0m\u001b[1;33m\u001b[0m\u001b[1;33m\u001b[0m\u001b[1;33m\u001b[0m\u001b[0m\n\u001b[0;32m     13\u001b[0m \u001b[1;33m\u001b[0m\u001b[0m\n\u001b[1;32m---> 14\u001b[1;33m \u001b[1;32mfrom\u001b[0m \u001b[0mplots\u001b[0m\u001b[1;33m.\u001b[0m\u001b[0mCoefPlots\u001b[0m \u001b[1;32mimport\u001b[0m \u001b[1;33m*\u001b[0m\u001b[1;33m\u001b[0m\u001b[1;33m\u001b[0m\u001b[0m\n\u001b[0m\u001b[0;32m     15\u001b[0m \u001b[1;33m\u001b[0m\u001b[0m\n\u001b[0;32m     16\u001b[0m \u001b[0mget_ipython\u001b[0m\u001b[1;33m(\u001b[0m\u001b[1;33m)\u001b[0m\u001b[1;33m.\u001b[0m\u001b[0mrun_line_magic\u001b[0m\u001b[1;33m(\u001b[0m\u001b[1;34m'matplotlib'\u001b[0m\u001b[1;33m,\u001b[0m \u001b[1;34m'inline'\u001b[0m\u001b[1;33m)\u001b[0m\u001b[1;33m\u001b[0m\u001b[1;33m\u001b[0m\u001b[0m\n",
      "\u001b[1;31mModuleNotFoundError\u001b[0m: No module named 'plots'"
     ]
    }
   ],
   "source": [
    "import numpy as np\n",
    "import pandas as pd\n",
    "import seaborn as sns\n",
    "\n",
    "import os\n",
    "import sys\n",
    "import string\n",
    "\n",
    "import statsmodels.api as sm\n",
    "import statsmodels.formula.api as sms\n",
    "\n",
    "# sys.path.append('../../CoefPlot')\n",
    "\n",
    "from plots.CoefPlots import *\n",
    "\n",
    "%matplotlib inline\n",
    "\n",
    "# %load_ext autoreload\n",
    "\n",
    "# %autoreload 2"
   ]
  },
  {
   "cell_type": "code",
   "execution_count": 1,
   "metadata": {},
   "outputs": [
    {
     "data": {
      "text/plain": [
       "['C:\\\\Users\\\\suraj\\\\Dropbox\\\\GitHub\\\\CoefPlot\\\\docs',\n",
       " 'C:\\\\Users\\\\suraj\\\\anaconda3\\\\python38.zip',\n",
       " 'C:\\\\Users\\\\suraj\\\\anaconda3\\\\DLLs',\n",
       " 'C:\\\\Users\\\\suraj\\\\anaconda3\\\\lib',\n",
       " 'C:\\\\Users\\\\suraj\\\\anaconda3',\n",
       " '',\n",
       " 'C:\\\\Users\\\\suraj\\\\anaconda3\\\\lib\\\\site-packages',\n",
       " 'C:\\\\Users\\\\suraj\\\\anaconda3\\\\lib\\\\site-packages\\\\win32',\n",
       " 'C:\\\\Users\\\\suraj\\\\anaconda3\\\\lib\\\\site-packages\\\\win32\\\\lib',\n",
       " 'C:\\\\Users\\\\suraj\\\\anaconda3\\\\lib\\\\site-packages\\\\Pythonwin',\n",
       " 'C:\\\\Users\\\\suraj\\\\anaconda3\\\\lib\\\\site-packages\\\\IPython\\\\extensions',\n",
       " 'C:\\\\Users\\\\suraj\\\\.ipython']"
      ]
     },
     "execution_count": 1,
     "metadata": {},
     "output_type": "execute_result"
    }
   ],
   "source": []
  },
  {
   "cell_type": "markdown",
   "metadata": {},
   "source": [
    "##### Coefficient Plots\n",
    "\n",
    "- First, create some dummy regression results for the example. "
   ]
  },
  {
   "cell_type": "code",
   "execution_count": 1,
   "metadata": {},
   "outputs": [
    {
     "ename": "NameError",
     "evalue": "name 'pd' is not defined",
     "output_type": "error",
     "traceback": [
      "\u001b[1;31m---------------------------------------------------------------------------\u001b[0m",
      "\u001b[1;31mNameError\u001b[0m                                 Traceback (most recent call last)",
      "\u001b[1;32m<ipython-input-1-d5be8f559c3f>\u001b[0m in \u001b[0;36m<module>\u001b[1;34m\u001b[0m\n\u001b[0;32m     17\u001b[0m \u001b[0miris\u001b[0m\u001b[1;33m=\u001b[0m\u001b[0mdatasets\u001b[0m\u001b[1;33m.\u001b[0m\u001b[0mload_iris\u001b[0m\u001b[1;33m(\u001b[0m\u001b[1;33m)\u001b[0m\u001b[1;33m\u001b[0m\u001b[1;33m\u001b[0m\u001b[0m\n\u001b[0;32m     18\u001b[0m \u001b[1;33m\u001b[0m\u001b[0m\n\u001b[1;32m---> 19\u001b[1;33m iris=pd.DataFrame(np.concatenate([iris.data, \n\u001b[0m\u001b[0;32m     20\u001b[0m                              iris.target.reshape([-1, 1])], axis=1))\n\u001b[0;32m     21\u001b[0m \u001b[1;33m\u001b[0m\u001b[0m\n",
      "\u001b[1;31mNameError\u001b[0m: name 'pd' is not defined"
     ]
    }
   ],
   "source": [
    "from sklearn import datasets\n",
    "\n",
    "def get_reg_data(result_obj, rounding=3):\n",
    "    \"\"\"\n",
    "    Helper function to get regression results into a dataframe\n",
    "    \"\"\"\n",
    "    reg_result=pd.concat([result_obj.params, \n",
    "                      result_obj.pvalues, \n",
    "                      result_obj.conf_int()], axis=1)\n",
    "    \n",
    "    reg_result.columns=['coef', 'pvalue', 'ci_left', 'ci_right']\n",
    "    reg_result['ci_length']=reg_result['coef']-reg_result['ci_left']\n",
    "    reg_result=reg_result.round(rounding)\n",
    "    return reg_result\n",
    "\n",
    "#load the Iris Dataset\n",
    "iris=datasets.load_iris()\n",
    "\n",
    "iris=pd.DataFrame(np.concatenate([iris.data, \n",
    "                             iris.target.reshape([-1, 1])], axis=1))\n",
    "\n",
    "iris.columns=['sepal_length', \n",
    "              'sepal_width', \n",
    "              'petal_length', \n",
    "              'petal_width', \n",
    "              'iris_type']\n",
    "\n",
    "iris=pd.concat([iris, pd.get_dummies(iris['iris_type'].astype(int), \n",
    "                                     prefix='type')], axis=1)\n",
    "\n",
    "\n",
    "#Run a simple OLS Regression. The coefficients are meaningless, just for the sake of getting some data. \n",
    "reg=sms.ols('sepal_length~sepal_width+petal_length+petal_width+type_1+type_2', \n",
    "                   data=iris).fit(cov_type='HC1')\n",
    "\n",
    "\n",
    "#get regression results in a pandas dataframe\n",
    "reg_result=get_reg_data(reg)\n",
    "\n",
    "#add in some additional columns with random data, to add additional columns to the table \n",
    "for i in range(4):\n",
    "    reg_result[f'randcol{i}']=np.random.random(len(reg_result)).round(3)\n",
    "\n",
    "reg_result\n",
    "\n",
    "\n",
    "\n"
   ]
  }
 ],
 "metadata": {
  "kernelspec": {
   "display_name": "Python 3",
   "language": "python",
   "name": "python3"
  },
  "language_info": {
   "codemirror_mode": {
    "name": "ipython",
    "version": 3
   },
   "file_extension": ".py",
   "mimetype": "text/x-python",
   "name": "python",
   "nbconvert_exporter": "python",
   "pygments_lexer": "ipython3",
   "version": "3.8.5"
  }
 },
 "nbformat": 4,
 "nbformat_minor": 4
}
